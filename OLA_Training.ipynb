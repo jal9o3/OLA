{
  "nbformat": 4,
  "nbformat_minor": 0,
  "metadata": {
    "colab": {
      "provenance": [],
      "gpuType": "T4",
      "authorship_tag": "ABX9TyNuEb2BOoGXritg6iKqFGkl",
      "include_colab_link": true
    },
    "kernelspec": {
      "name": "python3",
      "display_name": "Python 3"
    },
    "language_info": {
      "name": "python"
    },
    "accelerator": "GPU"
  },
  "cells": [
    {
      "cell_type": "markdown",
      "metadata": {
        "id": "view-in-github",
        "colab_type": "text"
      },
      "source": [
        "<a href=\"https://colab.research.google.com/github/jal9o3/OLA/blob/dev/OLA_Training.ipynb\" target=\"_parent\"><img src=\"https://colab.research.google.com/assets/colab-badge.svg\" alt=\"Open In Colab\"/></a>"
      ]
    },
    {
      "cell_type": "markdown",
      "source": [
        "# Load the data"
      ],
      "metadata": {
        "id": "Vv4d0Jqvr8le"
      }
    },
    {
      "cell_type": "code",
      "execution_count": 6,
      "metadata": {
        "id": "Dja-xM3dospt"
      },
      "outputs": [],
      "source": [
        "import pandas as pd\n",
        "import torch\n",
        "from torch.utils.data import Dataset, DataLoader\n",
        "\n",
        "INPUT_SIZE = 147\n",
        "OUTPUT_SIZE = 254\n",
        "\n",
        "class CustomDataset(Dataset):\n",
        "    def __init__(self, csv_file):\n",
        "        self.data = pd.read_csv(csv_file)\n",
        "        self.inputs = torch.tensor(self.data.iloc[:, :INPUT_SIZE].values, dtype=torch.float32)\n",
        "        self.outputs = torch.tensor(self.data.iloc[:, INPUT_SIZE:INPUT_SIZE+OUTPUT_SIZE].values, dtype=torch.float32)\n",
        "\n",
        "    def __len__(self):\n",
        "        return len(self.data)\n",
        "\n",
        "    def __getitem__(self, idx):\n",
        "        return self.inputs[idx], self.outputs[idx]\n",
        "\n",
        "# Usage\n",
        "dataset = CustomDataset('training_data.csv')\n",
        "dataloader = DataLoader(dataset, batch_size=32, shuffle=True)\n"
      ]
    },
    {
      "cell_type": "markdown",
      "source": [
        "# Define the neural network"
      ],
      "metadata": {
        "id": "eDv9cAugsIuA"
      }
    },
    {
      "cell_type": "code",
      "source": [
        "import torch.nn as nn\n",
        "\n",
        "class NeuralNet(nn.Module):\n",
        "    def __init__(self):\n",
        "        super(NeuralNet, self).__init__()\n",
        "        self.fc1 = nn.Linear(INPUT_SIZE, 128)\n",
        "        self.fc2 = nn.Linear(128, 64)\n",
        "        self.fc3 = nn.Linear(64, OUTPUT_SIZE)\n",
        "\n",
        "    def forward(self, x):\n",
        "        x = torch.relu(self.fc1(x))\n",
        "        x = torch.relu(self.fc2(x))\n",
        "        x = self.fc3(x)\n",
        "        return x\n",
        "\n",
        "# Initialize the model\n",
        "model = NeuralNet()\n"
      ],
      "metadata": {
        "id": "mMwtnULmpI2y"
      },
      "execution_count": 7,
      "outputs": []
    },
    {
      "cell_type": "markdown",
      "source": [
        "# Train the model"
      ],
      "metadata": {
        "id": "TTzinbRpsN_x"
      }
    },
    {
      "cell_type": "code",
      "source": [
        "import torch.optim as optim\n",
        "\n",
        "# Loss and optimizer\n",
        "criterion = nn.MSELoss()\n",
        "optimizer = optim.Adam(model.parameters(), lr=0.001)\n",
        "\n",
        "# Training loop\n",
        "num_epochs = 100\n",
        "for epoch in range(num_epochs):\n",
        "    for inputs, targets in dataloader:\n",
        "        # Forward pass\n",
        "        outputs = model(inputs)\n",
        "        loss = criterion(outputs, targets)\n",
        "\n",
        "        # Backward pass and optimization\n",
        "        optimizer.zero_grad()\n",
        "        loss.backward()\n",
        "        optimizer.step()\n",
        "\n",
        "    print(f'Epoch [{epoch+1}/{num_epochs}], Loss: {loss.item():.4f}')\n"
      ],
      "metadata": {
        "colab": {
          "base_uri": "https://localhost:8080/"
        },
        "collapsed": true,
        "id": "4Hc7nJJKpK-W",
        "outputId": "cc0c4f36-8d1e-4913-d39e-e203f9e35e5c"
      },
      "execution_count": 8,
      "outputs": [
        {
          "output_type": "stream",
          "name": "stdout",
          "text": [
            "Epoch [1/100], Loss: 0.0034\n",
            "Epoch [2/100], Loss: 0.0015\n",
            "Epoch [3/100], Loss: 0.0007\n",
            "Epoch [4/100], Loss: 0.0004\n",
            "Epoch [5/100], Loss: 0.0003\n",
            "Epoch [6/100], Loss: 0.0002\n",
            "Epoch [7/100], Loss: 0.0002\n",
            "Epoch [8/100], Loss: 0.0002\n",
            "Epoch [9/100], Loss: 0.0002\n",
            "Epoch [10/100], Loss: 0.0002\n",
            "Epoch [11/100], Loss: 0.0001\n",
            "Epoch [12/100], Loss: 0.0002\n",
            "Epoch [13/100], Loss: 0.0002\n",
            "Epoch [14/100], Loss: 0.0002\n",
            "Epoch [15/100], Loss: 0.0001\n",
            "Epoch [16/100], Loss: 0.0002\n",
            "Epoch [17/100], Loss: 0.0003\n",
            "Epoch [18/100], Loss: 0.0002\n",
            "Epoch [19/100], Loss: 0.0002\n",
            "Epoch [20/100], Loss: 0.0002\n",
            "Epoch [21/100], Loss: 0.0002\n",
            "Epoch [22/100], Loss: 0.0001\n",
            "Epoch [23/100], Loss: 0.0002\n",
            "Epoch [24/100], Loss: 0.0002\n",
            "Epoch [25/100], Loss: 0.0001\n",
            "Epoch [26/100], Loss: 0.0001\n",
            "Epoch [27/100], Loss: 0.0002\n",
            "Epoch [28/100], Loss: 0.0002\n",
            "Epoch [29/100], Loss: 0.0002\n",
            "Epoch [30/100], Loss: 0.0002\n",
            "Epoch [31/100], Loss: 0.0002\n",
            "Epoch [32/100], Loss: 0.0002\n",
            "Epoch [33/100], Loss: 0.0003\n",
            "Epoch [34/100], Loss: 0.0003\n",
            "Epoch [35/100], Loss: 0.0002\n",
            "Epoch [36/100], Loss: 0.0002\n",
            "Epoch [37/100], Loss: 0.0002\n",
            "Epoch [38/100], Loss: 0.0001\n",
            "Epoch [39/100], Loss: 0.0003\n",
            "Epoch [40/100], Loss: 0.0003\n",
            "Epoch [41/100], Loss: 0.0001\n",
            "Epoch [42/100], Loss: 0.0001\n",
            "Epoch [43/100], Loss: 0.0001\n",
            "Epoch [44/100], Loss: 0.0002\n",
            "Epoch [45/100], Loss: 0.0002\n",
            "Epoch [46/100], Loss: 0.0001\n",
            "Epoch [47/100], Loss: 0.0002\n",
            "Epoch [48/100], Loss: 0.0001\n",
            "Epoch [49/100], Loss: 0.0002\n",
            "Epoch [50/100], Loss: 0.0002\n",
            "Epoch [51/100], Loss: 0.0002\n",
            "Epoch [52/100], Loss: 0.0002\n",
            "Epoch [53/100], Loss: 0.0001\n",
            "Epoch [54/100], Loss: 0.0002\n",
            "Epoch [55/100], Loss: 0.0002\n",
            "Epoch [56/100], Loss: 0.0002\n",
            "Epoch [57/100], Loss: 0.0002\n",
            "Epoch [58/100], Loss: 0.0002\n",
            "Epoch [59/100], Loss: 0.0002\n",
            "Epoch [60/100], Loss: 0.0002\n",
            "Epoch [61/100], Loss: 0.0002\n",
            "Epoch [62/100], Loss: 0.0002\n",
            "Epoch [63/100], Loss: 0.0002\n",
            "Epoch [64/100], Loss: 0.0002\n",
            "Epoch [65/100], Loss: 0.0003\n",
            "Epoch [66/100], Loss: 0.0002\n",
            "Epoch [67/100], Loss: 0.0001\n",
            "Epoch [68/100], Loss: 0.0002\n",
            "Epoch [69/100], Loss: 0.0002\n",
            "Epoch [70/100], Loss: 0.0002\n",
            "Epoch [71/100], Loss: 0.0002\n",
            "Epoch [72/100], Loss: 0.0001\n",
            "Epoch [73/100], Loss: 0.0002\n",
            "Epoch [74/100], Loss: 0.0002\n",
            "Epoch [75/100], Loss: 0.0001\n",
            "Epoch [76/100], Loss: 0.0002\n",
            "Epoch [77/100], Loss: 0.0002\n",
            "Epoch [78/100], Loss: 0.0001\n",
            "Epoch [79/100], Loss: 0.0002\n",
            "Epoch [80/100], Loss: 0.0003\n",
            "Epoch [81/100], Loss: 0.0002\n",
            "Epoch [82/100], Loss: 0.0001\n",
            "Epoch [83/100], Loss: 0.0002\n",
            "Epoch [84/100], Loss: 0.0002\n",
            "Epoch [85/100], Loss: 0.0001\n",
            "Epoch [86/100], Loss: 0.0001\n",
            "Epoch [87/100], Loss: 0.0001\n",
            "Epoch [88/100], Loss: 0.0002\n",
            "Epoch [89/100], Loss: 0.0002\n",
            "Epoch [90/100], Loss: 0.0002\n",
            "Epoch [91/100], Loss: 0.0002\n",
            "Epoch [92/100], Loss: 0.0002\n",
            "Epoch [93/100], Loss: 0.0002\n",
            "Epoch [94/100], Loss: 0.0002\n",
            "Epoch [95/100], Loss: 0.0001\n",
            "Epoch [96/100], Loss: 0.0002\n",
            "Epoch [97/100], Loss: 0.0002\n",
            "Epoch [98/100], Loss: 0.0002\n",
            "Epoch [99/100], Loss: 0.0002\n",
            "Epoch [100/100], Loss: 0.0002\n"
          ]
        }
      ]
    }
  ]
}